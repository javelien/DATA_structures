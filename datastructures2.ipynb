{
  "nbformat": 4,
  "nbformat_minor": 0,
  "metadata": {
    "colab": {
      "provenance": []
    },
    "kernelspec": {
      "name": "python3",
      "display_name": "Python 3"
    },
    "language_info": {
      "name": "python"
    }
  },
  "cells": [
    {
      "cell_type": "code",
      "execution_count": null,
      "metadata": {
        "id": "SBXCv0_59pm4"
      },
      "outputs": [],
      "source": [
        "#Q1  Write a code to reverse a string\n"
      ]
    },
    {
      "source": [
        "def reverse_string(text):\n",
        "  return text[::-1]\n",
        "\n",
        "# Example usage\n",
        "string = \"WELCOME\"\n",
        "reversed_string = reverse_string(string)\n",
        "print(reversed_string)  # Output: olleh"
      ],
      "cell_type": "code",
      "metadata": {
        "colab": {
          "base_uri": "https://localhost:8080/"
        },
        "id": "_gKFVPPJM7z5",
        "outputId": "34d085ed-cfa2-4a69-d587-96904a4b3a2a"
      },
      "execution_count": 3,
      "outputs": [
        {
          "output_type": "stream",
          "name": "stdout",
          "text": [
            "EMOCLEW\n"
          ]
        }
      ]
    },
    {
      "cell_type": "code",
      "source": [
        "#Q2   Write a code to count the number of vowels in a string\n"
      ],
      "metadata": {
        "id": "uaosdGUp-evH"
      },
      "execution_count": null,
      "outputs": []
    },
    {
      "source": [
        "def count_vowels(text):\n",
        "  vowels = \"aeiouAEIOU\"\n",
        "  vowel_count = 0\n",
        "  for char in text:\n",
        "    if char in vowels:\n",
        "      vowel_count += 1\n",
        "  return vowel_count\n",
        "\n",
        "# Example usage\n",
        "string = \"Hello, World!\"\n",
        "num_vowels = count_vowels(string)\n",
        "print(num_vowels)  # Output: 3"
      ],
      "cell_type": "code",
      "metadata": {
        "colab": {
          "base_uri": "https://localhost:8080/"
        },
        "id": "_SaPYBWjM_bA",
        "outputId": "305c1996-ca90-4ff8-c4de-045950d26ee4"
      },
      "execution_count": 2,
      "outputs": [
        {
          "output_type": "stream",
          "name": "stdout",
          "text": [
            "3\n"
          ]
        }
      ]
    },
    {
      "cell_type": "code",
      "source": [
        "#Q3 Write a code to check if a given string is a palindrome or not\n"
      ],
      "metadata": {
        "id": "qVfZMiw3-enB"
      },
      "execution_count": null,
      "outputs": []
    },
    {
      "source": [
        "def is_palindrome(text):\n",
        "  text = text.lower()  # Ignore case\n",
        "  return text == text[::-1]\n",
        "\n",
        "# Example usage\n",
        "string1 = \"madam\"\n",
        "string2 = \"hello\"\n",
        "\n",
        "print(f\"'{string1}' is a palindrome: {is_palindrome(string1)}\")  # Output: True\n",
        "print(f\"'{string2}' is a palindrome: {is_palindrome(string2)}\")  # Output: False"
      ],
      "cell_type": "code",
      "metadata": {
        "colab": {
          "base_uri": "https://localhost:8080/"
        },
        "id": "mElqAgcDPiXF",
        "outputId": "7f786bbc-c728-4217-bd93-90d95f0add44"
      },
      "execution_count": 4,
      "outputs": [
        {
          "output_type": "stream",
          "name": "stdout",
          "text": [
            "'madam' is a palindrome: True\n",
            "'hello' is a palindrome: False\n"
          ]
        }
      ]
    },
    {
      "cell_type": "code",
      "source": [
        "#Q4 Write a code to check if two given strings are anagrams of each other\n"
      ],
      "metadata": {
        "id": "KjVGFhpw-ehW"
      },
      "execution_count": null,
      "outputs": []
    },
    {
      "source": [
        "def are_anagrams(str1, str2):\n",
        "  str1 = str1.lower().replace(\" \", \"\")\n",
        "  str2 = str2.lower().replace(\" \", \"\")\n",
        "  return sorted(str1) == sorted(str2)\n",
        "\n",
        "# Example usage\n",
        "string1 = \"listen\"\n",
        "string2 = \"silent\"\n",
        "if are_anagrams(string1, string2):\n",
        "  print(f\"'{string1}' and '{string2}' are anagrams.\")\n",
        "else:\n",
        "  print(f\"'{string1}' and '{string2}' are not anagrams.\")"
      ],
      "cell_type": "code",
      "metadata": {
        "id": "KbT9gMKEVGkf"
      },
      "execution_count": null,
      "outputs": []
    },
    {
      "cell_type": "code",
      "source": [
        "#Q5 Write a code to find all occurrences of a given substring within another string\n",
        "\n"
      ],
      "metadata": {
        "id": "jfYZ6Quq-ebW"
      },
      "execution_count": null,
      "outputs": []
    },
    {
      "source": [
        "import re\n",
        "\n",
        "def find_all_occurrences(text, substring):\n",
        "  \"\"\"Finds all occurrences of a substring within a string.\n",
        "\n",
        "  Args:\n",
        "    text: The string to search within.\n",
        "    substring: The substring to search for.\n",
        "\n",
        "  Returns:\n",
        "    A list of the starting indices of all occurrences of the substring.\n",
        "  \"\"\"\n",
        "  return [m.start() for m in re.finditer(f'(?={substring})', text)]\n",
        "\n",
        "# Example usage\n",
        "string = \"This is a test string. Test it!\"\n",
        "substring = \"test\"\n",
        "occurrences = find_all_occurrences(string, substring)\n",
        "print(occurrences)  # Output: [10, 21]"
      ],
      "cell_type": "code",
      "metadata": {
        "colab": {
          "base_uri": "https://localhost:8080/"
        },
        "id": "k7qfXvTzVUv9",
        "outputId": "46dc8dba-5e87-43a6-c6d6-4741dd160ada"
      },
      "execution_count": 5,
      "outputs": [
        {
          "output_type": "stream",
          "name": "stdout",
          "text": [
            "[10]\n"
          ]
        }
      ]
    },
    {
      "cell_type": "code",
      "source": [
        "#Q6 Write a code to perform basic string compression using the counts of repeated characters\n"
      ],
      "metadata": {
        "id": "4KVLQqEI-eV1"
      },
      "execution_count": null,
      "outputs": []
    },
    {
      "source": [
        "def compress_string(text):\n",
        "  if not text:  # Handle empty string\n",
        "    return \"\"\n",
        "\n",
        "  compressed = \"\"\n",
        "  count = 1\n",
        "  for i in range(len(text) - 1):\n",
        "    if text[i] == text[i + 1]:\n",
        "      count += 1\n",
        "    else:\n",
        "      compressed += text[i] + str(count)\n",
        "      count = 1\n",
        "\n",
        "  # Add the last character and its count\n",
        "  compressed += text[-1] + str(count)\n",
        "\n",
        "  # Return compressed string only if it's shorter\n",
        "  return compressed if len(compressed) < len(text) else text\n",
        "\n",
        "# Example usage\n",
        "string = \"aabcccccaaa\"\n",
        "compressed_string = compress_string(string)\n",
        "print(compressed_string)  # Output: a2b1c5a3"
      ],
      "cell_type": "code",
      "metadata": {
        "colab": {
          "base_uri": "https://localhost:8080/"
        },
        "id": "3fEvkI1_VY1G",
        "outputId": "346a397b-a01b-484f-8b38-284ad4df1edd"
      },
      "execution_count": 6,
      "outputs": [
        {
          "output_type": "stream",
          "name": "stdout",
          "text": [
            "a2b1c5a3\n"
          ]
        }
      ]
    },
    {
      "cell_type": "code",
      "source": [
        "#Q7 Write a code to determine if a string has all unique characters\n"
      ],
      "metadata": {
        "id": "iusp4NHT-eQX"
      },
      "execution_count": null,
      "outputs": []
    },
    {
      "source": [
        "def has_unique_chars(text):\n",
        "  return len(set(text)) == len(text)\n",
        "\n",
        "# Example usage\n",
        "string1 = \"abcdefg\"\n",
        "string2 = \"abacada\"\n",
        "\n",
        "print(f\"'{string1}' has all unique characters: {has_unique_chars(string1)}\")  # Output: True\n",
        "print(f\"'{string2}' has all unique characters: {has_unique_chars(string2)}\")  # Output: False"
      ],
      "cell_type": "code",
      "metadata": {
        "colab": {
          "base_uri": "https://localhost:8080/"
        },
        "id": "96_4LC47VcsJ",
        "outputId": "29891cfd-ad77-40e7-fefe-a299297ad8eb"
      },
      "execution_count": 7,
      "outputs": [
        {
          "output_type": "stream",
          "name": "stdout",
          "text": [
            "'abcdefg' has all unique characters: True\n",
            "'abacada' has all unique characters: False\n"
          ]
        }
      ]
    },
    {
      "cell_type": "code",
      "source": [
        "#Q8 Write a code to convert a given string to uppercase or lowercase\n"
      ],
      "metadata": {
        "id": "kyI-uIK5-eK_"
      },
      "execution_count": null,
      "outputs": []
    },
    {
      "source": [
        "def has_all_unique_chars(text):\n",
        "  return len(set(text)) == len(text)\n",
        "\n",
        "# Example usage\n",
        "string1 = \"abcdefg\"\n",
        "string2 = \"abacada\"\n",
        "\n",
        "print(f\"'{string1}' has all unique characters: {has_all_unique_chars(string1)}\")  # Output: True\n",
        "print(f\"'{string2}' has all unique characters: {has_all_unique_chars(string2)}\")  # Output: False"
      ],
      "cell_type": "code",
      "metadata": {
        "colab": {
          "base_uri": "https://localhost:8080/"
        },
        "id": "_P1EeoR3VgMq",
        "outputId": "652bb80e-a70a-4db3-a066-bf83e09f7c31"
      },
      "execution_count": 8,
      "outputs": [
        {
          "output_type": "stream",
          "name": "stdout",
          "text": [
            "'abcdefg' has all unique characters: True\n",
            "'abacada' has all unique characters: False\n"
          ]
        }
      ]
    },
    {
      "cell_type": "code",
      "source": [
        "#Q9 Write a code to count the number of words in a string\n"
      ],
      "metadata": {
        "id": "Mh4nP1Qe-eFp"
      },
      "execution_count": null,
      "outputs": []
    },
    {
      "source": [
        "def convert_case(text, to_case=\"upper\"):\n",
        "  \"\"\"Converts a string to uppercase or lowercase.\n",
        "\n",
        "  Args:\n",
        "    text: The string to convert.\n",
        "    to_case: The desired case, either \"upper\" or \"lower\".\n",
        "              Defaults to \"upper\".\n",
        "\n",
        "  Returns:\n",
        "    The converted string.\n",
        "  \"\"\"\n",
        "  if to_case == \"upper\":\n",
        "    return text.upper()\n",
        "  elif to_case == \"lower\":\n",
        "    return text.lower()\n",
        "  else:\n",
        "    return text  # Return original if invalid case specified\n",
        "\n",
        "\n",
        "# Example usage\n",
        "string = \"Hello, World!\"\n",
        "uppercase_string = convert_case(string, \"upper\")\n",
        "lowercase_string = convert_case(string, \"lower\")\n",
        "\n",
        "print(uppercase_string)  # Output: HELLO, WORLD!\n",
        "print(lowercase_string)  # Output: hello, world!"
      ],
      "cell_type": "code",
      "metadata": {
        "colab": {
          "base_uri": "https://localhost:8080/"
        },
        "id": "BPN_TFcKVkNb",
        "outputId": "aeacfdcd-5276-47c9-d053-5505d9ad8848"
      },
      "execution_count": 9,
      "outputs": [
        {
          "output_type": "stream",
          "name": "stdout",
          "text": [
            "HELLO, WORLD!\n",
            "hello, world!\n"
          ]
        }
      ]
    },
    {
      "cell_type": "code",
      "source": [
        "#Q10 Write a code to concatenate two strings without using the + operator\n"
      ],
      "metadata": {
        "id": "WTESXRyq-eAO"
      },
      "execution_count": null,
      "outputs": []
    },
    {
      "source": [
        "def convert_case(text, to_case=\"upper\"):\n",
        "  \"\"\"Converts a string to uppercase or lowercase.\n",
        "\n",
        "  Args:\n",
        "    text: The string to convert.\n",
        "    to_case: \"upper\" for uppercase, \"lower\" for lowercase (default: \"upper\").\n",
        "\n",
        "  Returns:\n",
        "    The converted string.\n",
        "  \"\"\"\n",
        "  if to_case == \"upper\":\n",
        "    return text.upper()\n",
        "  elif to_case == \"lower\":\n",
        "    return text.lower()\n",
        "  else:\n",
        "    return text  # Return original if invalid to_case\n",
        "\n",
        "# Example usage\n",
        "string = \"Hello, World!\"\n",
        "uppercase_string = convert_case(string, \"upper\")\n",
        "lowercase_string = convert_case(string, \"lower\")\n",
        "\n",
        "print(uppercase_string)  # Output: HELLO, WORLD!\n",
        "print(lowercase_string)  # Output: hello, world!"
      ],
      "cell_type": "code",
      "metadata": {
        "colab": {
          "base_uri": "https://localhost:8080/"
        },
        "id": "RwwQO6nbVoWk",
        "outputId": "e9e1274c-8417-4f7f-9c6b-07f04b2e8fe3"
      },
      "execution_count": 10,
      "outputs": [
        {
          "output_type": "stream",
          "name": "stdout",
          "text": [
            "HELLO, WORLD!\n",
            "hello, world!\n"
          ]
        }
      ]
    },
    {
      "cell_type": "code",
      "source": [
        "#Q11 Write a code to remove all occurrences of a specific element from a list\n"
      ],
      "metadata": {
        "id": "jXV_yhlu-d6c"
      },
      "execution_count": null,
      "outputs": []
    },
    {
      "source": [
        "import re\n",
        "\n",
        "def count_words(text):\n",
        "  \"\"\"Counts the number of words in a string.\n",
        "\n",
        "  Args:\n",
        "    text: The string to analyze.\n",
        "\n",
        "  Returns:\n",
        "    The number of words in the string.\n",
        "  \"\"\"\n",
        "  words = re.findall(r'\\b\\w+\\b', text)  # Find all words\n",
        "  return len(words)\n",
        "\n",
        "# Example usage\n",
        "string = \"This is a test string.\"\n",
        "word_count = count_words(string)\n",
        "print(word_count)  # Output: 5"
      ],
      "cell_type": "code",
      "metadata": {
        "colab": {
          "base_uri": "https://localhost:8080/"
        },
        "id": "UbdkSo0LVt0D",
        "outputId": "41cddfa2-f55d-43c4-d546-e0ce281e0f2c"
      },
      "execution_count": 11,
      "outputs": [
        {
          "output_type": "stream",
          "name": "stdout",
          "text": [
            "5\n"
          ]
        }
      ]
    },
    {
      "cell_type": "code",
      "source": [
        "#Q12 Implement a code to find the second largest number in a given list of integers\n"
      ],
      "metadata": {
        "id": "otmg5M3q-d1C"
      },
      "execution_count": null,
      "outputs": []
    },
    {
      "source": [
        "import re\n",
        "\n",
        "def count_words(text):\n",
        "  \"\"\"Counts the number of words in a string.\n",
        "\n",
        "  Args:\n",
        "    text: The string to analyze.\n",
        "\n",
        "  Returns:\n",
        "    The number of words in the string.\n",
        "  \"\"\"\n",
        "  words = re.findall(r'\\b\\w+\\b', text)  # Find all words using regex\n",
        "  return len(words)\n",
        "\n",
        "# Example usage\n",
        "string = \"This is a test string with 5 words.\"\n",
        "word_count = count_words(string)\n",
        "print(word_count)  # Output: 8"
      ],
      "cell_type": "code",
      "metadata": {
        "colab": {
          "base_uri": "https://localhost:8080/"
        },
        "id": "s4VeK7xdVw7K",
        "outputId": "7890061f-1600-4dc2-e80d-bdd0a01a27cb"
      },
      "execution_count": 12,
      "outputs": [
        {
          "output_type": "stream",
          "name": "stdout",
          "text": [
            "8\n"
          ]
        }
      ]
    },
    {
      "cell_type": "code",
      "source": [
        "#Q13 Create a code to count the occurrences of each element in a list and return a dictionary with elements as keys and their counts as values\n"
      ],
      "metadata": {
        "id": "Yn_2DhXM-dvn"
      },
      "execution_count": null,
      "outputs": []
    },
    {
      "source": [
        "def concatenate_strings(str1, str2):\n",
        "  \"\"\"Concatenates two strings without using the '+' operator.\n",
        "\n",
        "  Args:\n",
        "    str1: The first string.\n",
        "    str2: The second string.\n",
        "\n",
        "  Returns:\n",
        "    The concatenated string.\n",
        "  \"\"\"\n",
        "  return \"\".join([str1, str2])\n",
        "\n",
        "# Example usage\n",
        "string1 = \"Hello\"\n",
        "string2 = \"World\"\n",
        "concatenated_string = concatenate_strings(string1, string2)\n",
        "print(concatenated_string)  # Output: HelloWorld"
      ],
      "cell_type": "code",
      "metadata": {
        "colab": {
          "base_uri": "https://localhost:8080/"
        },
        "id": "nTTaNXDnV88V",
        "outputId": "97235895-8a07-4469-a33f-189d83837513"
      },
      "execution_count": 13,
      "outputs": [
        {
          "output_type": "stream",
          "name": "stdout",
          "text": [
            "HelloWorld\n"
          ]
        }
      ]
    },
    {
      "cell_type": "code",
      "source": [
        "#Q14 Write a code to reverse a list in-place without using any built-in reverse functions\n"
      ],
      "metadata": {
        "id": "FBq_4_7w-dqL"
      },
      "execution_count": null,
      "outputs": []
    },
    {
      "source": [
        "def concatenate_strings(str1, str2):\n",
        "  \"\"\"Concatenates two strings without using the + operator.\n",
        "\n",
        "  Args:\n",
        "    str1: The first string.\n",
        "    str2: The second string.\n",
        "\n",
        "  Returns:\n",
        "    The concatenated string.\n",
        "  \"\"\"\n",
        "  return \"\".join([str1, str2])\n",
        "\n",
        "# Example usage\n",
        "string1 = \"Hello\"\n",
        "string2 = \"World\"\n",
        "concatenated_string = concatenate_strings(string1, string2)\n",
        "print(concatenated_string)  # Output: HelloWorld"
      ],
      "cell_type": "code",
      "metadata": {
        "colab": {
          "base_uri": "https://localhost:8080/"
        },
        "id": "VcjN4Ww9WBUk",
        "outputId": "6401f73c-40b2-43a8-fc2e-e1cd2b8e895c"
      },
      "execution_count": 14,
      "outputs": [
        {
          "output_type": "stream",
          "name": "stdout",
          "text": [
            "HelloWorld\n"
          ]
        }
      ]
    },
    {
      "cell_type": "code",
      "source": [
        "#Q15 Write a code to merge two sorted lists into a single sorted list\n"
      ],
      "metadata": {
        "id": "UFAdP_5w-dkg"
      },
      "execution_count": null,
      "outputs": []
    },
    {
      "source": [
        "def remove_all_occurrences(lst, element):\n",
        "  \"\"\"Removes all occurrences of a specific element from a list.\n",
        "\n",
        "  Args:\n",
        "    lst: The list to modify.\n",
        "    element: The element to remove.\n",
        "\n",
        "  Returns:\n",
        "    The modified list with the element removed.\n",
        "  \"\"\"\n",
        "  return [x for x in lst if x != element]\n",
        "\n",
        "# Example usage\n",
        "my_list = [1, 2, 3, 2, 4, 2, 5]\n",
        "element_to_remove = 2\n",
        "new_list = remove_all_occurrences(my_list, element_to_remove)\n",
        "print(new_list)  # Output: [1, 3, 4, 5]"
      ],
      "cell_type": "code",
      "metadata": {
        "colab": {
          "base_uri": "https://localhost:8080/"
        },
        "id": "uPJ8V2sWWE8U",
        "outputId": "60fd256c-ca5e-42ab-962f-73240fd7c02b"
      },
      "execution_count": 15,
      "outputs": [
        {
          "output_type": "stream",
          "name": "stdout",
          "text": [
            "[1, 3, 4, 5]\n"
          ]
        }
      ]
    },
    {
      "cell_type": "code",
      "source": [
        "#Q16 Implement a code to find the intersection of two given lists\n"
      ],
      "metadata": {
        "id": "-zJMwC4a-den"
      },
      "execution_count": null,
      "outputs": []
    },
    {
      "source": [
        "def remove_all_occurrences(lst, element):\n",
        "  \"\"\"Removes all occurrences of a specific element from a list.\n",
        "\n",
        "  Args:\n",
        "    lst: The list to modify.\n",
        "    element: The element to remove.\n",
        "\n",
        "  Returns:\n",
        "    The modified list with all occurrences of the element removed.\n",
        "  \"\"\"\n",
        "  return [x for x in lst if x != element]\n",
        "\n",
        "# Example usage\n",
        "my_list = [1, 2, 3, 2, 4, 2, 5]\n",
        "element_to_remove = 2\n",
        "new_list = remove_all_occurrences(my_list, element_to_remove)\n",
        "print(new_list)  # Output: [1, 3, 4, 5]"
      ],
      "cell_type": "code",
      "metadata": {
        "colab": {
          "base_uri": "https://localhost:8080/"
        },
        "id": "zM-pAxqHWHwK",
        "outputId": "80c461bf-b042-4582-a5af-a5ff0a499148"
      },
      "execution_count": 16,
      "outputs": [
        {
          "output_type": "stream",
          "name": "stdout",
          "text": [
            "[1, 3, 4, 5]\n"
          ]
        }
      ]
    },
    {
      "cell_type": "code",
      "source": [
        "#Q17 Implement a code to find and remove duplicates from a list while preserving the original order of elements\n"
      ],
      "metadata": {
        "id": "BtqRGsNq-dZQ"
      },
      "execution_count": null,
      "outputs": []
    },
    {
      "source": [
        "def reverse_list_in_place(lst):\n",
        "  \"\"\"Reverses a list in-place without using built-in reverse functions.\n",
        "\n",
        "  Args:\n",
        "    lst: The list to reverse.\n",
        "  \"\"\"\n",
        "  left, right = 0, len(lst) - 1\n",
        "  while left < right:\n",
        "    lst[left], lst[right] = lst[right], lst[left]\n",
        "    left += 1\n",
        "    right -= 1\n",
        "\n",
        "# Example usage\n",
        "my_list = [1, 2, 3, 4, 5]\n",
        "reverse_list_in_place(my_list)\n",
        "print(my_list)  # Output: [5, 4, 3, 2, 1]"
      ],
      "cell_type": "code",
      "metadata": {
        "colab": {
          "base_uri": "https://localhost:8080/"
        },
        "id": "EpsenBHlWL5Z",
        "outputId": "4cdc31b0-129b-401e-e85f-4a9f930284ed"
      },
      "execution_count": 17,
      "outputs": [
        {
          "output_type": "stream",
          "name": "stdout",
          "text": [
            "[5, 4, 3, 2, 1]\n"
          ]
        }
      ]
    },
    {
      "cell_type": "code",
      "source": [
        "#Q18 Create a code to check if a given list is sorted (either in ascending or descending order) or not\n"
      ],
      "metadata": {
        "id": "g3oeowN1-dUD"
      },
      "execution_count": null,
      "outputs": []
    },
    {
      "source": [
        "def reverse_list_in_place(lst):\n",
        "  \"\"\"Reverses a list in-place without using built-in reverse functions.\n",
        "\n",
        "  Args:\n",
        "    lst: The list to reverse.\n",
        "  \"\"\"\n",
        "  left, right = 0, len(lst) - 1\n",
        "  while left < right:\n",
        "    lst[left], lst[right] = lst[right], lst[left]\n",
        "    left += 1\n",
        "    right -= 1\n",
        "\n",
        "# Example usage\n",
        "my_list = [1, 2, 3, 4, 5]\n",
        "reverse_list_in_place(my_list)\n",
        "print(my_list)  # Output: [5, 4, 3, 2, 1]"
      ],
      "cell_type": "code",
      "metadata": {
        "colab": {
          "base_uri": "https://localhost:8080/"
        },
        "id": "pb21RcIuWd57",
        "outputId": "35f08750-f062-4d73-b963-7011e13a890b"
      },
      "execution_count": 18,
      "outputs": [
        {
          "output_type": "stream",
          "name": "stdout",
          "text": [
            "[5, 4, 3, 2, 1]\n"
          ]
        }
      ]
    },
    {
      "cell_type": "code",
      "source": [
        "#Q19 Create a code to find the union of two lists without duplicates\n"
      ],
      "metadata": {
        "id": "7oG21CA1-dO4"
      },
      "execution_count": null,
      "outputs": []
    },
    {
      "source": [
        "def reverse_list_in_place(lst):\n",
        "  \"\"\"Reverses a list in-place without using built-in reverse functions.\n",
        "\n",
        "  Args:\n",
        "    lst: The list to reverse.\n",
        "  \"\"\"\n",
        "  left, right = 0, len(lst) - 1\n",
        "  while left < right:\n",
        "    lst[left], lst[right] = lst[right], lst[left]\n",
        "    left += 1\n",
        "    right -= 1\n",
        "\n",
        "# Example usage\n",
        "my_list = [1, 2, 3, 4, 5]\n",
        "reverse_list_in_place(my_list)\n",
        "print(my_list)  # Output: [5, 4, 3, 2, 1]"
      ],
      "cell_type": "code",
      "metadata": {
        "colab": {
          "base_uri": "https://localhost:8080/"
        },
        "id": "F5cFS-XWXMKE",
        "outputId": "91dd4096-6dec-43b7-d0ab-0dcbe1483fe0"
      },
      "execution_count": 19,
      "outputs": [
        {
          "output_type": "stream",
          "name": "stdout",
          "text": [
            "[5, 4, 3, 2, 1]\n"
          ]
        }
      ]
    },
    {
      "cell_type": "code",
      "source": [
        "#Q20 Write a code to shuffle a given list randomly without using any built-in shuffle functions\n"
      ],
      "metadata": {
        "id": "rkqw-kkM-dJb"
      },
      "execution_count": null,
      "outputs": []
    },
    {
      "source": [
        "def merge_sorted_lists(list1, list2):\n",
        "  \"\"\"Merges two sorted lists into a single sorted list.\n",
        "\n",
        "  Args:\n",
        "    list1: The first sorted list.\n",
        "    list2: The second sorted list.\n",
        "\n",
        "  Returns:\n",
        "    A new sorted list containing all elements from both input lists.\n",
        "  \"\"\"\n",
        "  merged_list = []\n",
        "  i = j = 0\n",
        "\n",
        "  while i < len(list1) and j < len(list2):\n",
        "    if list1[i] < list2[j]:\n",
        "      merged_list.append(list1[i])\n",
        "      i += 1\n",
        "    else:\n",
        "      merged_list.append(list2[j])\n",
        "      j += 1\n",
        "\n",
        "  # Add any remaining elements from list1 or list2\n",
        "  merged_list.extend(list1[i:])\n",
        "  merged_list.extend(list2[j:])\n",
        "\n",
        "  return merged_list\n",
        "\n",
        "# Example usage\n",
        "list1 = [1, 3, 5]\n",
        "list2 = [2, 4, 6]\n",
        "merged_list = merge_sorted_lists(list1, list2)\n",
        "print(merged_list)  # Output: [1, 2, 3, 4, 5, 6]"
      ],
      "cell_type": "code",
      "metadata": {
        "colab": {
          "base_uri": "https://localhost:8080/"
        },
        "id": "SOQRUWlcXP5e",
        "outputId": "30a226db-d14e-4fbf-f9ec-b09761612117"
      },
      "execution_count": 20,
      "outputs": [
        {
          "output_type": "stream",
          "name": "stdout",
          "text": [
            "[1, 2, 3, 4, 5, 6]\n"
          ]
        }
      ]
    },
    {
      "cell_type": "code",
      "source": [
        "#Q21 Write a code that takes two tuples as input and returns a new tuple containing elements that are common to both input tuples\n"
      ],
      "metadata": {
        "id": "a3tlsp7N-dFA"
      },
      "execution_count": 21,
      "outputs": []
    },
    {
      "source": [
        "def find_intersection(list1, list2):\n",
        "  \"\"\"Finds the intersection of two given lists.\n",
        "\n",
        "  Args:\n",
        "    list1: The first list.\n",
        "    list2: The second list.\n",
        "\n",
        "  Returns:\n",
        "    A new list containing the common elements of both input lists.\n",
        "  \"\"\"\n",
        "  return list(set(list1) & set(list2))\n",
        "\n",
        "# Example usage\n",
        "list1 = [1, 2, 3, 4, 5]\n",
        "list2 = [3, 5, 6, 7, 8]\n",
        "intersection = find_intersection(list1, list2)\n",
        "print(intersection)  # Output: [3, 5]"
      ],
      "cell_type": "code",
      "metadata": {
        "colab": {
          "base_uri": "https://localhost:8080/"
        },
        "id": "oPWRPjXdYL37",
        "outputId": "2b056fcb-e477-4575-df34-3a393642249c"
      },
      "execution_count": 25,
      "outputs": [
        {
          "output_type": "stream",
          "name": "stdout",
          "text": [
            "[3, 5]\n"
          ]
        }
      ]
    },
    {
      "source": [],
      "cell_type": "code",
      "metadata": {
        "colab": {
          "base_uri": "https://localhost:8080/"
        },
        "id": "3pJG15L4XV8F",
        "outputId": "a27f2fe5-9a29-434b-ea94-0fe50abad8bc"
      },
      "execution_count": 22,
      "outputs": [
        {
          "output_type": "stream",
          "name": "stdout",
          "text": [
            "[1, 2, 3, 4, 5, 6, 7, 8]\n"
          ]
        }
      ]
    },
    {
      "cell_type": "code",
      "source": [
        "#Q22 Create a code that prompts the user to enter two sets of integers separated by commas. Then, print the\n",
        "#intersection of these two sets\n",
        "\n",
        "\n"
      ],
      "metadata": {
        "id": "qJGNOtI_-c_k"
      },
      "execution_count": null,
      "outputs": []
    },
    {
      "source": [
        "def find_intersection(list1, list2):\n",
        "  \"\"\"Finds the intersection of two lists.\n",
        "\n",
        "  Args:\n",
        "    list1: The first list.\n",
        "    list2: The second list.\n",
        "\n",
        "  Returns:\n",
        "    A new list containing the common elements of both input lists.\n",
        "  \"\"\"\n",
        "  intersection = []\n",
        "  for element in list1:\n",
        "    if element in list2 and element not in intersection:\n",
        "      intersection.append(element)\n",
        "  return intersection\n",
        "\n",
        "# Example usage\n",
        "list1 = [1, 2, 3, 4, 5]\n",
        "list2 = [3, 5, 6, 7, 8]\n",
        "intersection_list = find_intersection(list1, list2)\n",
        "print(intersection_list)  # Output: [3, 5]"
      ],
      "cell_type": "code",
      "metadata": {
        "colab": {
          "base_uri": "https://localhost:8080/"
        },
        "id": "1IedI9IOYPvc",
        "outputId": "0c9201aa-1cfd-4838-dae2-157c06d5d54a"
      },
      "execution_count": 26,
      "outputs": [
        {
          "output_type": "stream",
          "name": "stdout",
          "text": [
            "[3, 5]\n"
          ]
        }
      ]
    },
    {
      "source": [],
      "cell_type": "code",
      "metadata": {
        "colab": {
          "base_uri": "https://localhost:8080/"
        },
        "id": "3L2ubAMSXea2",
        "outputId": "7de1edeb-b260-4914-996c-b2bd7e5bba9b"
      },
      "execution_count": 23,
      "outputs": [
        {
          "output_type": "stream",
          "name": "stdout",
          "text": [
            "[1, 2, 3, 4, 5, 6, 7, 8]\n"
          ]
        }
      ]
    },
    {
      "cell_type": "code",
      "source": [
        "#Q23 Write a code to concatenate two tuples. The function should take two tuples as input and return a new\n",
        "#tuple containing elements from both input tuples.\n",
        "\n",
        "\n"
      ],
      "metadata": {
        "id": "5kR9VLm3-c6K"
      },
      "execution_count": null,
      "outputs": []
    },
    {
      "source": [
        "def common_elements_tuple(tuple1, tuple2):\n",
        "  \"\"\"Finds common elements between two tuples.\n",
        "\n",
        "  Args:\n",
        "    tuple1: The first tuple.\n",
        "    tuple2: The second tuple.\n",
        "\n",
        "  Returns:\n",
        "    A new tuple containing the common elements.\n",
        "  \"\"\"\n",
        "  set1 = set(tuple1)\n",
        "  set2 = set(tuple2)\n",
        "  common_elements = set1.intersection(set2)\n",
        "  return tuple(common_elements)\n",
        "\n",
        "# Example usage\n",
        "tuple1 = (1, 2, 3, 4, 5)\n",
        "tuple2 = (3, 5, 6, 7, 8)\n",
        "common_tuple = common_elements_tuple(tuple1, tuple2)\n",
        "print(common_tuple)  # Output: (3, 5)"
      ],
      "cell_type": "code",
      "metadata": {
        "colab": {
          "base_uri": "https://localhost:8080/"
        },
        "id": "T5a5MwvOYTEU",
        "outputId": "ead1784a-48e3-4941-8daf-32d47003aab9"
      },
      "execution_count": 27,
      "outputs": [
        {
          "output_type": "stream",
          "name": "stdout",
          "text": [
            "(3, 5)\n"
          ]
        }
      ]
    },
    {
      "source": [],
      "cell_type": "code",
      "metadata": {
        "colab": {
          "base_uri": "https://localhost:8080/"
        },
        "id": "pEgSVXREXyJ8",
        "outputId": "526630b9-9dbc-4151-c93f-b8a285fde174"
      },
      "execution_count": 24,
      "outputs": [
        {
          "output_type": "stream",
          "name": "stdout",
          "text": [
            "[3, 5]\n"
          ]
        }
      ]
    },
    {
      "cell_type": "code",
      "source": [
        "#Q24 Develop a code that prompts the user to input two sets of strings. Then, print the elements that are present in the first set but not in the second set\n",
        "\n",
        ""
      ],
      "metadata": {
        "id": "G5qO72ql-c1E"
      },
      "execution_count": null,
      "outputs": []
    },
    {
      "source": [
        "def common_elements(tuple1, tuple2):\n",
        "  \"\"\"Finds common elements between two tuples.\n",
        "\n",
        "  Args:\n",
        "    tuple1: The first tuple.\n",
        "    tuple2: The second tuple.\n",
        "\n",
        "  Returns:\n",
        "    A new tuple containing the common elements.\n",
        "  \"\"\"\n",
        "  return tuple(set(tuple1) & set(tuple2))\n",
        "\n",
        "# Example usage\n",
        "tuple1 = (1, 2, 3, 4, 5)\n",
        "tuple2 = (3, 5, 6, 7, 8)\n",
        "common_tuple = common_elements(tuple1, tuple2)\n",
        "print(common_tuple)  # Output: (3, 5)"
      ],
      "cell_type": "code",
      "metadata": {
        "colab": {
          "base_uri": "https://localhost:8080/"
        },
        "id": "PnW-5qevYXcP",
        "outputId": "7298c9ed-9f75-4596-caa7-8a2fab7b1960"
      },
      "execution_count": 28,
      "outputs": [
        {
          "output_type": "stream",
          "name": "stdout",
          "text": [
            "(3, 5)\n"
          ]
        }
      ]
    },
    {
      "cell_type": "code",
      "source": [
        "'''Q25 Create a code that takes a tuple and two integers as input. The function should return a new tuple\n",
        "containing elements from the original tuple within the specified range of indices\n",
        " '''\n",
        ""
      ],
      "metadata": {
        "id": "HygG8rN1-cwh"
      },
      "execution_count": null,
      "outputs": []
    },
    {
      "source": [
        "def get_set_from_input():\n",
        "  \"\"\"Prompts the user to enter a set of integers and returns it.\"\"\"\n",
        "  while True:\n",
        "    try:\n",
        "      input_str = input(\"Enter a set of integers separated by commas: \")\n",
        "      elements = [int(x.strip()) for x in input_str.split(',')]\n",
        "      return set(elements)\n",
        "    except ValueError:\n",
        "      print(\"Invalid input. Please enter integers separated by commas.\")\n",
        "\n",
        "# Get input from the user\n",
        "set1 = get_set_from_input()\n",
        "set2 = get_set_from_input()\n",
        "\n",
        "# Calculate and print the intersection\n",
        "intersection = set1.intersection(set2)\n",
        "print(\"Intersection of the two sets:\", intersection)"
      ],
      "cell_type": "code",
      "metadata": {
        "id": "iDKep8udYbnb"
      },
      "execution_count": null,
      "outputs": []
    },
    {
      "cell_type": "code",
      "source": [
        "#Q26 Write a code that prompts the user to input two sets of characters. Then, print the union of these two sets\n"
      ],
      "metadata": {
        "id": "FLmD5f3B-crn"
      },
      "execution_count": null,
      "outputs": []
    },
    {
      "source": [
        "def get_set_from_input():\n",
        "  \"\"\"Prompts the user to enter a set of integers separated by commas.\n",
        "\n",
        "  Returns:\n",
        "    A set of integers.\n",
        "  \"\"\"\n",
        "  while True:\n",
        "    try:\n",
        "      input_str = input(\"Enter a set of integers separated by commas: \")\n",
        "      elements = [int(x.strip()) for x in input_str.split(\",\")]\n",
        "      return set(elements)\n",
        "    except ValueError:\n",
        "      print(\"Invalid input. Please enter integers separated by commas.\")\n",
        "\n",
        "# Get input from the user for two sets\n",
        "set1 = get_set_from_input()\n",
        "set2 = get_set_from_input()\n",
        "\n",
        "# Calculate and print the intersection\n",
        "intersection = set1.intersection(set2)\n",
        "print(\"Intersection of the two sets:\", intersection)"
      ],
      "cell_type": "code",
      "metadata": {
        "id": "8oLkzSvcYe-r"
      },
      "execution_count": null,
      "outputs": []
    },
    {
      "cell_type": "code",
      "source": [
        " #Q27 Develop a code that takes a tuple of integers as input. The function should return the maximum and minimum values from the tuple using tuple unpacking\n",
        ""
      ],
      "metadata": {
        "id": "145ek_dxA_WN"
      },
      "execution_count": null,
      "outputs": []
    },
    {
      "source": [
        "def get_string_set_from_input():\n",
        "  \"\"\"Prompts the user to enter a set of strings and returns it as a set.\"\"\"\n",
        "  input_str = input(\"Enter a set of strings separated by commas: \")\n",
        "  return set(input_str.split(','))\n",
        "\n",
        "# Get input from the user\n",
        "set1 = get_string_set_from_input()\n",
        "set2 = get_string_set_from_input()\n",
        "\n",
        "# Calculate and print the difference\n",
        "difference = set1.difference(set2)  # or set1 - set2\n",
        "print(\"Elements in the first set but not in the second set:\", difference)"
      ],
      "cell_type": "code",
      "metadata": {
        "id": "GzQQonMNYh_9"
      },
      "execution_count": null,
      "outputs": []
    },
    {
      "cell_type": "code",
      "source": [
        "#Q28 Create a code that defines two sets of integers. Then, print the union, intersection, and difference of these two sets\n",
        ""
      ],
      "metadata": {
        "id": "B5NHsDGJ-coH"
      },
      "execution_count": null,
      "outputs": []
    },
    {
      "source": [
        "def get_set_from_input():\n",
        "  \"\"\"Prompts the user to enter a set of strings separated by commas.\n",
        "\n",
        "  Returns:\n",
        "    A set of strings.\n",
        "  \"\"\"\n",
        "  input_str = input(\"Enter a set of strings separated by commas: \")\n",
        "  elements = [x.strip() for x in input_str.split(',')]\n",
        "  return set(elements)\n",
        "\n",
        "# Get input from the user for two sets\n",
        "set1 = get_set_from_input()\n",
        "set2 = get_set_from_input()\n",
        "\n",
        "# Calculate and print the difference\n",
        "difference = set1.difference(set2)\n",
        "print(\"Elements in the first set but not in the second set:\", difference)"
      ],
      "cell_type": "code",
      "metadata": {
        "id": "oh-5WUEVYk85"
      },
      "execution_count": null,
      "outputs": []
    },
    {
      "cell_type": "code",
      "source": [
        "#Q29 Write a code that takes a tuple and an element as input. The function should return the count of occurrences of the given element in the tuple\n",
        ""
      ],
      "metadata": {
        "id": "vhWHRUNT-ciD"
      },
      "execution_count": null,
      "outputs": []
    },
    {
      "source": [
        "def get_sub_tuple(original_tuple, start_index, end_index):\n",
        "  \"\"\"Returns a sub-tuple within the specified range of indices.\n",
        "\n",
        "  Args:\n",
        "    original_tuple: The original tuple.\n",
        "    start_index: The starting index (inclusive).\n",
        "    end_index: The ending index (exclusive).\n",
        "\n",
        "  Returns:\n",
        "    A new tuple containing elements from the original tuple\n",
        "    within the specified range of indices.\n",
        "  \"\"\"\n",
        "  return original_tuple[start_index:end_index]\n",
        "\n",
        "# Example usage\n",
        "my_tuple = (1, 2, 3, 4, 5, 6, 7, 8, 9, 10)\n",
        "start_index = 2\n",
        "end_index = 6\n",
        "sub_tuple = get_sub_tuple(my_tuple, start_index, end_index)\n",
        "print(sub_tuple)  # Output: (3, 4, 5, 6)"
      ],
      "cell_type": "code",
      "metadata": {
        "id": "ZpUbqPY_YoUM"
      },
      "execution_count": null,
      "outputs": []
    },
    {
      "cell_type": "code",
      "source": [
        "#Q30 Develop a code that prompts the user to input two sets of strings. Then, print the symmetric difference of these two sets\n",
        ""
      ],
      "metadata": {
        "id": "iMDllXa2-ccn"
      },
      "execution_count": null,
      "outputs": []
    },
    {
      "source": [
        "def get_sub_tuple(original_tuple, start_index, end_index):\n",
        "  \"\"\"Returns a sub-tuple within the specified range of indices.\n",
        "\n",
        "  Args:\n",
        "    original_tuple: The original tuple.\n",
        "    start_index: The starting index (inclusive).\n",
        "    end_index: The ending index (exclusive).\n",
        "\n",
        "  Returns:\n",
        "    A new tuple containing elements from the original tuple within the\n",
        "    specified range of indices.\n",
        "  \"\"\"\n",
        "  return original_tuple[start_index:end_index]\n",
        "\n",
        "# Example usage\n",
        "my_tuple = (1, 2, 3, 4, 5, 6, 7, 8, 9, 10)\n",
        "start_index = 2\n",
        "end_index = 6\n",
        "sub_tuple = get_sub_tuple(my_tuple, start_index, end_index)\n",
        "print(sub_tuple)  # Output: (3, 4, 5, 6)"
      ],
      "cell_type": "code",
      "metadata": {
        "id": "cQYO_beqYrOa"
      },
      "execution_count": null,
      "outputs": []
    },
    {
      "source": [
        "def get_sub_tuple(original_tuple, start_index, end_index):\n",
        "  \"\"\"Returns a sub-tuple within the specified range of indices.\n",
        "\n",
        "  Args:\n",
        "    original_tuple: The original tuple.\n",
        "    start_index: The starting index (inclusive).\n",
        "    end_index: The ending index (exclusive).\n",
        "\n",
        "  Returns:\n",
        "    A new tuple containing elements from the original tuple within the\n",
        "    specified range of indices.\n",
        "  \"\"\"\n",
        "  return original_tuple[start_index:end_index]\n",
        "\n",
        "# Example usage\n",
        "my_tuple = (1, 2, 3, 4, 5, 6, 7, 8, 9, 10)\n",
        "start_index = 2\n",
        "end_index = 6\n",
        "sub_tuple = get_sub_tuple(my_tuple, start_index, end_index)\n",
        "print(sub_tuple)  # Output: (3, 4, 5, 6)"
      ],
      "cell_type": "code",
      "metadata": {
        "id": "e8eYn1iNYrUE"
      },
      "execution_count": null,
      "outputs": []
    },
    {
      "cell_type": "code",
      "source": [
        "#Q31 Write a code that takes a list of words as input and returns a dictionary where the keys are unique words\n",
        "# and the values are the frequencies of those words in the input list\n",
        "\n",
        ""
      ],
      "metadata": {
        "id": "sPLgZwFP-cV6"
      },
      "execution_count": null,
      "outputs": []
    },
    {
      "source": [
        "def get_char_set_from_input():\n",
        "    \"\"\"Prompts the user to enter a set of characters and returns it as a set.\"\"\"\n",
        "    input_str = input(\"Enter a set of characters separated by commas: \")\n",
        "    return set(input_str.replace(\",\", \"\"))  # Remove commas\n",
        "\n",
        "# Get input from the user for two sets of characters\n",
        "set1 = get_char_set_from_input()\n",
        "set2 = get_char_set_from_input()\n",
        "\n",
        "# Calculate and print the union\n",
        "union = set1.union(set2)  # or set1 | set2\n",
        "print(\"Union of the two sets of characters:\", union)"
      ],
      "cell_type": "code",
      "metadata": {
        "id": "zHM2vkWrYuGY"
      },
      "execution_count": null,
      "outputs": []
    },
    {
      "cell_type": "code",
      "source": [
        "#Q32 Write a code that takes two dictionaries as input and merges them into a single dictionary. If there are\n",
        "# common keys, the values should be added together\n",
        ""
      ],
      "metadata": {
        "id": "C5nHVSw5-cQF"
      },
      "execution_count": null,
      "outputs": []
    },
    {
      "source": [
        "def get_char_set_from_input():\n",
        "    \"\"\"Prompts the user to enter a set of characters and returns it as a set.\"\"\"\n",
        "    input_str = input(\"Enter a set of characters separated by commas: \")\n",
        "    return set(input_str.replace(\" \", \"\").split(','))\n",
        "\n",
        "# Get input from the user\n",
        "set1 = get_char_set_from_input()\n",
        "set2 = get_char_set_from_input()\n",
        "\n",
        "# Calculate and print the union\n",
        "union = set1.union(set2)\n",
        "print(\"Union of the two sets:\", union)"
      ],
      "cell_type": "code",
      "metadata": {
        "id": "VxZQY_3AYxR6"
      },
      "execution_count": null,
      "outputs": []
    },
    {
      "cell_type": "code",
      "source": [
        "'''Q33 Write a code to access a value in a nested dictionary. The function should take the dictionary and a list of\n",
        "keys as input, and return the corresponding value. If any of the keys do not exist in the dictionary, the\n",
        "function should return None'''\n",
        ""
      ],
      "metadata": {
        "id": "zV-GICBx-cLK"
      },
      "execution_count": null,
      "outputs": []
    },
    {
      "source": [
        "def find_min_max(numbers):\n",
        "  \"\"\"Finds the minimum and maximum values in a tuple of integers.\n",
        "\n",
        "  Args:\n",
        "    numbers: A tuple of integers.\n",
        "\n",
        "  Returns:\n",
        "    A tuple containing the minimum and maximum values.\n",
        "  \"\"\"\n",
        "  if not numbers:\n",
        "    return None, None  # Handle empty tuple\n",
        "\n",
        "  min_val, max_val = numbers[0], numbers[0]  # Initialize\n",
        "\n",
        "  for num in numbers:\n",
        "    min_val = min(min_val, num)\n",
        "    max_val = max(max_val, num)\n",
        "\n",
        "  return min_val, max_val\n",
        "\n",
        "# Example usage\n",
        "numbers = (10, 5, 20, 3, 15)\n",
        "min_num, max_num = find_min_max(numbers)\n",
        "\n",
        "print(\"Minimum:\", min_num)  # Output: 3\n",
        "print(\"Maximum:\", max_num)  # Output: 20"
      ],
      "cell_type": "code",
      "metadata": {
        "id": "R0Q8b-aXY0Fk"
      },
      "execution_count": null,
      "outputs": []
    },
    {
      "cell_type": "code",
      "source": [
        "'''Q34 Write a code that takes a dictionary as input and returns a sorted version of it based on the values. You\n",
        "can choose whether to sort in ascending or descending order'''\n",
        "\n",
        ""
      ],
      "metadata": {
        "id": "l__EYGmH-cF_"
      },
      "execution_count": null,
      "outputs": []
    },
    {
      "source": [
        "def count_occurrences(input_tuple, element):\n",
        "  \"\"\"Counts the occurrences of an element in a tuple.\n",
        "\n",
        "  Args:\n",
        "    input_tuple: The tuple to search in.\n",
        "    element: The element to count.\n",
        "\n",
        "  Returns:\n",
        "    The number of occurrences of the element in the tuple.\n",
        "  \"\"\"\n",
        "  return input_tuple.count(element)\n",
        "\n",
        "# Example usage\n",
        "my_tuple = (1, 2, 3, 2, 4, 2, 5)\n",
        "element_to_count = 2\n",
        "occurrences = count_occurrences(my_tuple, element_to_count)\n",
        "print(occurrences)  # Output: 3"
      ],
      "cell_type": "code",
      "metadata": {
        "id": "3HnsSWdyY3Bn"
      },
      "execution_count": null,
      "outputs": []
    },
    {
      "cell_type": "code",
      "source": [
        "'''Q35 Write a code that inverts a dictionary, swapping keys and values. Ensure that the inverted dictionary\n",
        "correctly handles cases where multiple keys have the same value by storing the keys as a list in the\n",
        "inverted dictionary.'''\n"
      ],
      "metadata": {
        "id": "W26w4EIf-b_6"
      },
      "execution_count": null,
      "outputs": []
    },
    {
      "source": [
        "def find_min_max(numbers):\n",
        "  \"\"\"Finds the minimum and maximum values in a tuple of integers.\n",
        "\n",
        "  Args:\n",
        "    numbers: A tuple of integers.\n",
        "\n",
        "  Returns:\n",
        "    A tuple containing the minimum and maximum values.\n",
        "  \"\"\"\n",
        "  if not numbers:  # Handle empty tuple\n",
        "    return None, None\n",
        "\n",
        "  min_val, max_val = numbers[0], numbers[0]  # Initialize with first element\n",
        "\n",
        "  for num in numbers:\n",
        "    if num < min_val:\n",
        "      min_val = num\n",
        "    if num > max_val:\n",
        "      max_val = num\n",
        "\n",
        "  return min_val, max_val\n",
        "\n",
        "# Example usage\n",
        "numbers = (3, 1, 4, 1, 5, 9, 2, 6, 5, 3, 5)\n",
        "min_num, max_num = find_min_max(numbers)\n",
        "\n",
        "if min_num is not None and max_num is not None:\n",
        "  print(\"Minimum:\", min_num)  # Output: Minimum: 1\n",
        "  print(\"Maximum:\", max_num)  # Output: Maximum: 9\n",
        "else:\n",
        "  print(\"The tuple is empty.\")"
      ],
      "cell_type": "code",
      "metadata": {
        "id": "q_6VSCb2Y7Oa"
      },
      "execution_count": null,
      "outputs": []
    },
    {
      "cell_type": "code",
      "source": [],
      "metadata": {
        "id": "_fdE0_d9-b5u"
      },
      "execution_count": null,
      "outputs": []
    },
    {
      "cell_type": "code",
      "source": [],
      "metadata": {
        "id": "0aNLefZq-bxj"
      },
      "execution_count": null,
      "outputs": []
    },
    {
      "cell_type": "code",
      "source": [],
      "metadata": {
        "id": "aSbLH89w-bpI"
      },
      "execution_count": null,
      "outputs": []
    }
  ]
}